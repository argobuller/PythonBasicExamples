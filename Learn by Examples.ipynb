{
 "cells": [
  {
   "cell_type": "markdown",
   "metadata": {},
   "source": [
    "Outline:\n",
    "\n",
    "* [1. ERRORS AND EXCEPTIONS](#errors)\n",
    "* [1.1 Handling Exceptions](#handling)\n",
    "* [1.2 Defining your own exceptions](#own)\n",
    "* [1.3 Simple Authorization and Authentification System](#auth)\n"
   ]
  },
  {
   "cell_type": "markdown",
   "metadata": {},
   "source": [
    "# 1. ERRORS AND EXCEPTIONS<a class=\"anchor\" id=\"errors\"></a>"
   ]
  },
  {
   "cell_type": "markdown",
   "metadata": {},
   "source": [
    "## 1.1 Handling Exceptions<a class=\"anchor\" id=\"handling\"></a>"
   ]
  },
  {
   "cell_type": "code",
   "execution_count": 2,
   "metadata": {},
   "outputs": [
    {
     "name": "stdout",
     "output_type": "stream",
     "text": [
      "Testing 0:\n",
      "Enter a number other than zero\n",
      "Testing hello:\n",
      "Enter a numerical value\n",
      "Testing 50.0:\n",
      "2.0\n",
      "Testing 13:\n",
      "No, No, not 13!\n"
     ]
    },
    {
     "ename": "ValueError",
     "evalue": "13 is an unlucky number",
     "output_type": "error",
     "traceback": [
      "\u001b[0;31m---------------------------------------------------------------------------\u001b[0m",
      "\u001b[0;31mValueError\u001b[0m                                Traceback (most recent call last)",
      "\u001b[0;32m<ipython-input-2-d9559be23808>\u001b[0m in \u001b[0;36m<module>\u001b[0;34m()\u001b[0m\n\u001b[1;32m     15\u001b[0m \u001b[0;32mfor\u001b[0m \u001b[0mval\u001b[0m \u001b[0;32min\u001b[0m \u001b[0;34m(\u001b[0m\u001b[0;36m0\u001b[0m\u001b[0;34m,\u001b[0m \u001b[0;34m\"hello\"\u001b[0m\u001b[0;34m,\u001b[0m \u001b[0;36m50.0\u001b[0m\u001b[0;34m,\u001b[0m \u001b[0;36m13\u001b[0m\u001b[0;34m)\u001b[0m\u001b[0;34m:\u001b[0m\u001b[0;34m\u001b[0m\u001b[0m\n\u001b[1;32m     16\u001b[0m     \u001b[0mprint\u001b[0m\u001b[0;34m(\u001b[0m\u001b[0;34m\"Testing {}:\"\u001b[0m\u001b[0;34m.\u001b[0m\u001b[0mformat\u001b[0m\u001b[0;34m(\u001b[0m\u001b[0mval\u001b[0m\u001b[0;34m)\u001b[0m\u001b[0;34m)\u001b[0m\u001b[0;34m\u001b[0m\u001b[0m\n\u001b[0;32m---> 17\u001b[0;31m     \u001b[0mprint\u001b[0m\u001b[0;34m(\u001b[0m\u001b[0mfunny_division\u001b[0m\u001b[0;34m(\u001b[0m\u001b[0mval\u001b[0m\u001b[0;34m)\u001b[0m\u001b[0;34m)\u001b[0m\u001b[0;34m\u001b[0m\u001b[0m\n\u001b[0m",
      "\u001b[0;32m<ipython-input-2-d9559be23808>\u001b[0m in \u001b[0;36mfunny_division\u001b[0;34m(anumber)\u001b[0m\n\u001b[1;32m      3\u001b[0m     \u001b[0;32mtry\u001b[0m\u001b[0;34m:\u001b[0m\u001b[0;34m\u001b[0m\u001b[0m\n\u001b[1;32m      4\u001b[0m         \u001b[0;32mif\u001b[0m \u001b[0manumber\u001b[0m \u001b[0;34m==\u001b[0m \u001b[0;36m13\u001b[0m\u001b[0;34m:\u001b[0m\u001b[0;34m\u001b[0m\u001b[0m\n\u001b[0;32m----> 5\u001b[0;31m             \u001b[0;32mraise\u001b[0m \u001b[0mValueError\u001b[0m\u001b[0;34m(\u001b[0m\u001b[0;34m\"13 is an unlucky number\"\u001b[0m\u001b[0;34m)\u001b[0m\u001b[0;34m\u001b[0m\u001b[0m\n\u001b[0m\u001b[1;32m      6\u001b[0m         \u001b[0;32mreturn\u001b[0m \u001b[0;36m100\u001b[0m \u001b[0;34m/\u001b[0m \u001b[0manumber\u001b[0m\u001b[0;34m\u001b[0m\u001b[0m\n\u001b[1;32m      7\u001b[0m     \u001b[0;32mexcept\u001b[0m \u001b[0mZeroDivisionError\u001b[0m\u001b[0;34m:\u001b[0m\u001b[0;34m\u001b[0m\u001b[0m\n",
      "\u001b[0;31mValueError\u001b[0m: 13 is an unlucky number"
     ]
    }
   ],
   "source": [
    "# Python 3 - Object oriented Programming [Page: 105]\n",
    "def funny_division(anumber):\n",
    "    try:\n",
    "        if anumber == 13:\n",
    "            raise ValueError(\"13 is an unlucky number\")\n",
    "        return 100 / anumber\n",
    "    except ZeroDivisionError:\n",
    "        return \"Enter a number other than zero\"\n",
    "    except TypeError:\n",
    "        return \"Enter a numerical value\"\n",
    "    except ValueError:\n",
    "        print(\"No, No, not 13!\")\n",
    "        raise\n",
    "        \n",
    "for val in (0, \"hello\", 50.0, 13):\n",
    "    print(\"Testing {}:\".format(val))\n",
    "    print(funny_division(val))"
   ]
  },
  {
   "cell_type": "markdown",
   "metadata": {},
   "source": [
    "---"
   ]
  },
  {
   "cell_type": "code",
   "execution_count": 4,
   "metadata": {},
   "outputs": [
    {
     "name": "stdout",
     "output_type": "stream",
     "text": [
      "raising <class 'ValueError'>\n",
      "Caught a ValueError\n",
      "This cleanup code is always called\n"
     ]
    }
   ],
   "source": [
    "# Python 3 - Object oriented Programming [Page: 106]\n",
    "import random\n",
    "some_exceptions = [ValueError, TypeError, IndexError, None]\n",
    "\n",
    "try:\n",
    "    choice = random.choice(some_exceptions)\n",
    "    print(\"raising {}\".format(choice))\n",
    "    if choice:\n",
    "        raise choice(\"An error\")\n",
    "except ValueError:\n",
    "    print(\"Caught a ValueError\")\n",
    "except TypeError:\n",
    "    print(\"Caught a TypeError\")\n",
    "except Exception as e:\n",
    "    print(\"Caught some other error: %s\" % ( e.__class__.__name__))\n",
    "else:\n",
    "    print(\"This code called if there is no exception\")\n",
    "finally:\n",
    "    print(\"This cleanup code is always called\")"
   ]
  },
  {
   "cell_type": "markdown",
   "metadata": {},
   "source": [
    "## 1.2 Defining your own exceptions<a class=\"anchor\" id=\"own\"></a>"
   ]
  },
  {
   "cell_type": "code",
   "execution_count": 5,
   "metadata": {},
   "outputs": [
    {
     "name": "stdout",
     "output_type": "stream",
     "text": [
      "I'm sorry, but your withdrawal is more than your balance by $25\n"
     ]
    }
   ],
   "source": [
    "# Python 3 - Object oriented Programming [Page: 110]\n",
    "class InvalidWithdrawal(Exception):\n",
    "    def __init__(self, balance, amount):\n",
    "        super().__init__(\"account doesn't have ${}\".format(amount))\n",
    "        \n",
    "        self.amount = amount\n",
    "        self.balance = balance\n",
    "        \n",
    "    def overage(self):\n",
    "        return self.amount - self.balance\n",
    "\n",
    "try:\n",
    "    raise InvalidWithdrawal(25,50)\n",
    "except InvalidWithdrawal as e:\n",
    "    print(\"I'm sorry, but your withdrawal is \"\n",
    "            \"more than your balance by \"\n",
    "            \"${}\".format(e.overage()))"
   ]
  },
  {
   "cell_type": "markdown",
   "metadata": {},
   "source": [
    "---"
   ]
  },
  {
   "cell_type": "code",
   "execution_count": null,
   "metadata": {},
   "outputs": [],
   "source": [
    "#Incomplete Inventory Example\n",
    "# Python 3 - Object oriented Programming [Page: 112]\n",
    "class Inventory:\n",
    "    def lock(self, item_type):\n",
    "        ''' Select the type of item that is going to be manipulated. This method will lock\n",
    "            the item. This prevents selling the same item to two different customers\n",
    "        '''\n",
    "        pass\n",
    "    \n",
    "    def unlock(self, item_type):\n",
    "        ''' Release the given type so that other customer can access it.\n",
    "        '''\n",
    "        pass\n",
    "    \n",
    "    def purchase(self, item_type):\n",
    "        ''' If the item is not locked, does not exists, out of stock, raise an exception.\n",
    "            If the item is available, subtract one item and return the number of items left.'''\n",
    "        pass\n",
    "    \n",
    "item_type = 'widget'\n",
    "inv = Inventory()\n",
    "inv.lock(item_type)\n",
    "try:\n",
    "    num_left = inv.purchase(item_type)\n",
    "except InvalidItemType:\n",
    "    print(\"Sorry, we don't sell {}\".format(item_type))\n",
    "except OutOfStock:\n",
    "    print(\"Sorry, that item is out of stock.\")\n",
    "else:\n",
    "    print(\"Purchase complete. There are \"\n",
    "            \"{} {}s left\".format(num_left, item_type))\n",
    "finally:\n",
    "    inv.unlock(item_type)\n",
    "    "
   ]
  },
  {
   "cell_type": "markdown",
   "metadata": {},
   "source": [
    "## 1.3 Simple Authorization and Authentification System<a class=\"anchor\" id=\"auth\"></a>"
   ]
  },
  {
   "cell_type": "code",
   "execution_count": 40,
   "metadata": {},
   "outputs": [],
   "source": [
    "# Python 3 - Object oriented Programming [Page: 11]\n",
    "import random\n",
    "class Authenticator:\n",
    "    def __init__(self):\n",
    "        '''Construct an authenticator to manage users loggin in and out.'''\n",
    "        self.users = {}\n",
    "    \n",
    "    def add_user(self, username, password):\n",
    "        if username in self.users:\n",
    "            print(\"UsernameAlreadyExists[{}]\".format(username))\n",
    "        \n",
    "        if len(password) < 6:\n",
    "            print(\"PasswordTooShort[{}]\".format(username))\n",
    "\n",
    "        self.users[username] = password"
   ]
  },
  {
   "cell_type": "code",
   "execution_count": 41,
   "metadata": {},
   "outputs": [],
   "source": [
    "auth = Authenticator()\n",
    "auth.add_user(\"joe\", \"joepass\")\n",
    "auth.add_user(\"mirza\", \"mirzapass\")\n",
    "auth.add_user(\"robert\", \"robertpass\")"
   ]
  },
  {
   "cell_type": "code",
   "execution_count": 42,
   "metadata": {},
   "outputs": [
    {
     "data": {
      "text/plain": [
       "{'joe': 'joepass', 'mirza': 'mirzapass', 'robert': 'robertpass'}"
      ]
     },
     "execution_count": 42,
     "metadata": {},
     "output_type": "execute_result"
    }
   ],
   "source": [
    "auth.users"
   ]
  },
  {
   "cell_type": "code",
   "execution_count": 43,
   "metadata": {},
   "outputs": [
    {
     "name": "stdout",
     "output_type": "stream",
     "text": [
      "UsernameAlreadyExists[joe]\n"
     ]
    }
   ],
   "source": [
    "auth.add_user(\"joe\", \"joenewpass\")"
   ]
  },
  {
   "cell_type": "code",
   "execution_count": 44,
   "metadata": {},
   "outputs": [
    {
     "name": "stdout",
     "output_type": "stream",
     "text": [
      "UsernameAlreadyExists[mirza]\n",
      "PasswordTooShort[mirza]\n"
     ]
    }
   ],
   "source": [
    "auth.add_user(\"mirza\", \"mir\")"
   ]
  },
  {
   "cell_type": "code",
   "execution_count": 1,
   "metadata": {},
   "outputs": [],
   "source": [
    "# Python 3 - Object oriented Programming [Page: 11]\n",
    "import hashlib\n",
    "class User:\n",
    "    def __init__(self, username, password):\n",
    "        '''Create a new User object. The password will be encrypted before storing'''\n",
    "        self.username = username\n",
    "        self.password = self._encrypt_pw(password)\n",
    "        self.is_logged_in = False\n",
    "        \n",
    "    def _encrypt_pw(self, password):\n",
    "        '''Enrypt the password with the username and sha digest.'''\n",
    "        hash_string = (self.username + password)\n",
    "        hash_string = hash_string.encode('utf8')\n",
    "        return hashlib.sha256(hash_string).hexdigest()\n",
    "    \n",
    "    def check_password(self, password):\n",
    "        '''Return True if the password is valid for user. false otherwise.'''\n",
    "        encrypted = self._encrypt_pw(password)\n",
    "        return encrypted == self.password\n",
    "\n",
    "\n",
    "class AuthException(Exception):\n",
    "    def __init__(self, username, user=None):\n",
    "        super().__init__(username, user)\n",
    "        self.username = username\n",
    "        self.user = user\n",
    "\n",
    "class UsernameAlreadyExists(AuthException):\n",
    "    pass\n",
    "\n",
    "class PasswordTooShort(AuthException):\n",
    "    pass\n",
    "\n",
    "class InvalidUsername(AuthException):\n",
    "    pass\n",
    "\n",
    "class InvalidPassword(AuthException):\n",
    "    pass\n",
    "    \n",
    "class Authenticator:\n",
    "    def __init__(self):\n",
    "        '''Construct an authenticator to manage users loggin in and out.'''\n",
    "        self.users = {}\n",
    "    \n",
    "    def add_user(self, username, password):\n",
    "        if username in self.users:\n",
    "            raise UsernameAlreadyExists(username)\n",
    "        \n",
    "        if len(password) < 6:\n",
    "            raise PasswordTooShort(username)\n",
    "\n",
    "        self.users[username] = User(username, password)\n",
    "    \n",
    "    def login(self, username, password):\n",
    "        try:\n",
    "            user = self.users[username]\n",
    "        except KeyError:\n",
    "            raise InvalidUsername(username)\n",
    "            \n",
    "        if not user.check_password(password):\n",
    "            raise InvalidPassword(username, user)\n",
    "            \n",
    "        user.is_logged_in = True\n",
    "        return True\n",
    "    \n",
    "    def is_logged_in(self, username):\n",
    "        if username in self.users:\n",
    "            return self.users[username].is_logged_in\n",
    "        return False\n",
    "\n",
    "class PermissionError(Exception):\n",
    "    pass\n",
    "\n",
    "class Authorizor:\n",
    "    def __init__(self, authenticator):\n",
    "        self.authenticator = authenticator\n",
    "        self.permissions = {}\n",
    "        \n",
    "    def add_permission(self, perm_name):\n",
    "        '''Create a new permission that users can be added to'''\n",
    "        try:\n",
    "            perm_set = self.permissions[perm_name]\n",
    "        except KeyError:\n",
    "            self.permissions[perm_name] = set()\n",
    "        else:\n",
    "            raise PermissionError(\"Permission Exists\")\n",
    "    \n",
    "    def permit_user(self, perm_name, username):\n",
    "        '''Grant the given permission to the user'''\n",
    "        try:\n",
    "            perm_set = self.permissions[perm_name]\n",
    "        except KeyError:\n",
    "            raise PermissionError(\"Permission does not exist\")\n",
    "        else:\n",
    "            if username not in self.authenticator.users:\n",
    "                raise InvalidUsername(username)\n",
    "            perm_set.add(username)\n",
    "            \n",
    "    def check_permission(self, perm_name, username):\n",
    "        if not self.authenticator.is_logged_in(username):\n",
    "            raise NotLoggedInError(username)\n",
    "        try:\n",
    "            perm_set = self.permissions[perm_name]\n",
    "        except KeyError:\n",
    "            raise PermissionError(\"Permission does not exist\")\n",
    "        else:\n",
    "            if username not in perm_set:\n",
    "                raise NotPermittedError(username)\n",
    "            else:\n",
    "                return True\n",
    "\n",
    "class NotLoggedInError(AuthException):\n",
    "    pass\n",
    "\n",
    "class NotPermittedError(AuthException):\n",
    "    pass\n",
    "\n",
    "authenticator = Authenticator()\n",
    "authorizor = Authorizor(authenticator)"
   ]
  },
  {
   "cell_type": "code",
   "execution_count": 2,
   "metadata": {},
   "outputs": [],
   "source": [
    "authenticator.add_user(\"joe\", \"joepassword\")"
   ]
  },
  {
   "cell_type": "code",
   "execution_count": 3,
   "metadata": {},
   "outputs": [],
   "source": [
    "authorizor.add_permission(\"paint\")"
   ]
  },
  {
   "cell_type": "code",
   "execution_count": 4,
   "metadata": {},
   "outputs": [
    {
     "data": {
      "text/plain": [
       "{'paint': set()}"
      ]
     },
     "execution_count": 4,
     "metadata": {},
     "output_type": "execute_result"
    }
   ],
   "source": [
    "authorizor.permissions"
   ]
  },
  {
   "cell_type": "code",
   "execution_count": 5,
   "metadata": {},
   "outputs": [
    {
     "ename": "PermissionError",
     "evalue": "Permission Exists",
     "output_type": "error",
     "traceback": [
      "\u001b[0;31m---------------------------------------------------------------------------\u001b[0m",
      "\u001b[0;31mPermissionError\u001b[0m                           Traceback (most recent call last)",
      "\u001b[0;32m<ipython-input-5-8b935eeb623e>\u001b[0m in \u001b[0;36m<module>\u001b[0;34m()\u001b[0m\n\u001b[0;32m----> 1\u001b[0;31m \u001b[0mauthorizor\u001b[0m\u001b[0;34m.\u001b[0m\u001b[0madd_permission\u001b[0m\u001b[0;34m(\u001b[0m\u001b[0;34m\"paint\"\u001b[0m\u001b[0;34m)\u001b[0m\u001b[0;34m\u001b[0m\u001b[0m\n\u001b[0m",
      "\u001b[0;32m<ipython-input-1-ef38eb762f6a>\u001b[0m in \u001b[0;36madd_permission\u001b[0;34m(self, perm_name)\u001b[0m\n\u001b[1;32m     84\u001b[0m             \u001b[0mself\u001b[0m\u001b[0;34m.\u001b[0m\u001b[0mpermissions\u001b[0m\u001b[0;34m[\u001b[0m\u001b[0mperm_name\u001b[0m\u001b[0;34m]\u001b[0m \u001b[0;34m=\u001b[0m \u001b[0mset\u001b[0m\u001b[0;34m(\u001b[0m\u001b[0;34m)\u001b[0m\u001b[0;34m\u001b[0m\u001b[0m\n\u001b[1;32m     85\u001b[0m         \u001b[0;32melse\u001b[0m\u001b[0;34m:\u001b[0m\u001b[0;34m\u001b[0m\u001b[0m\n\u001b[0;32m---> 86\u001b[0;31m             \u001b[0;32mraise\u001b[0m \u001b[0mPermissionError\u001b[0m\u001b[0;34m(\u001b[0m\u001b[0;34m\"Permission Exists\"\u001b[0m\u001b[0;34m)\u001b[0m\u001b[0;34m\u001b[0m\u001b[0m\n\u001b[0m\u001b[1;32m     87\u001b[0m \u001b[0;34m\u001b[0m\u001b[0m\n\u001b[1;32m     88\u001b[0m     \u001b[0;32mdef\u001b[0m \u001b[0mpermit_user\u001b[0m\u001b[0;34m(\u001b[0m\u001b[0mself\u001b[0m\u001b[0;34m,\u001b[0m \u001b[0mperm_name\u001b[0m\u001b[0;34m,\u001b[0m \u001b[0musername\u001b[0m\u001b[0;34m)\u001b[0m\u001b[0;34m:\u001b[0m\u001b[0;34m\u001b[0m\u001b[0m\n",
      "\u001b[0;31mPermissionError\u001b[0m: Permission Exists"
     ]
    }
   ],
   "source": [
    "authorizor.add_permission(\"paint\")"
   ]
  },
  {
   "cell_type": "code",
   "execution_count": 6,
   "metadata": {},
   "outputs": [
    {
     "ename": "NotLoggedInError",
     "evalue": "('joe', None)",
     "output_type": "error",
     "traceback": [
      "\u001b[0;31m---------------------------------------------------------------------------\u001b[0m",
      "\u001b[0;31mNotLoggedInError\u001b[0m                          Traceback (most recent call last)",
      "\u001b[0;32m<ipython-input-6-e80fdb0bf4a7>\u001b[0m in \u001b[0;36m<module>\u001b[0;34m()\u001b[0m\n\u001b[0;32m----> 1\u001b[0;31m \u001b[0mauthorizor\u001b[0m\u001b[0;34m.\u001b[0m\u001b[0mcheck_permission\u001b[0m\u001b[0;34m(\u001b[0m\u001b[0;34m\"paint\"\u001b[0m\u001b[0;34m,\u001b[0m \u001b[0;34m\"joe\"\u001b[0m\u001b[0;34m)\u001b[0m\u001b[0;34m\u001b[0m\u001b[0m\n\u001b[0m",
      "\u001b[0;32m<ipython-input-1-ef38eb762f6a>\u001b[0m in \u001b[0;36mcheck_permission\u001b[0;34m(self, perm_name, username)\u001b[0m\n\u001b[1;32m     99\u001b[0m     \u001b[0;32mdef\u001b[0m \u001b[0mcheck_permission\u001b[0m\u001b[0;34m(\u001b[0m\u001b[0mself\u001b[0m\u001b[0;34m,\u001b[0m \u001b[0mperm_name\u001b[0m\u001b[0;34m,\u001b[0m \u001b[0musername\u001b[0m\u001b[0;34m)\u001b[0m\u001b[0;34m:\u001b[0m\u001b[0;34m\u001b[0m\u001b[0m\n\u001b[1;32m    100\u001b[0m         \u001b[0;32mif\u001b[0m \u001b[0;32mnot\u001b[0m \u001b[0mself\u001b[0m\u001b[0;34m.\u001b[0m\u001b[0mauthenticator\u001b[0m\u001b[0;34m.\u001b[0m\u001b[0mis_logged_in\u001b[0m\u001b[0;34m(\u001b[0m\u001b[0musername\u001b[0m\u001b[0;34m)\u001b[0m\u001b[0;34m:\u001b[0m\u001b[0;34m\u001b[0m\u001b[0m\n\u001b[0;32m--> 101\u001b[0;31m             \u001b[0;32mraise\u001b[0m \u001b[0mNotLoggedInError\u001b[0m\u001b[0;34m(\u001b[0m\u001b[0musername\u001b[0m\u001b[0;34m)\u001b[0m\u001b[0;34m\u001b[0m\u001b[0m\n\u001b[0m\u001b[1;32m    102\u001b[0m         \u001b[0;32mtry\u001b[0m\u001b[0;34m:\u001b[0m\u001b[0;34m\u001b[0m\u001b[0m\n\u001b[1;32m    103\u001b[0m             \u001b[0mperm_set\u001b[0m \u001b[0;34m=\u001b[0m \u001b[0mself\u001b[0m\u001b[0;34m.\u001b[0m\u001b[0mpermissions\u001b[0m\u001b[0;34m[\u001b[0m\u001b[0mperm_name\u001b[0m\u001b[0;34m]\u001b[0m\u001b[0;34m\u001b[0m\u001b[0m\n",
      "\u001b[0;31mNotLoggedInError\u001b[0m: ('joe', None)"
     ]
    }
   ],
   "source": [
    "authorizor.check_permission(\"paint\", \"joe\")"
   ]
  },
  {
   "cell_type": "code",
   "execution_count": 7,
   "metadata": {},
   "outputs": [
    {
     "data": {
      "text/plain": [
       "False"
      ]
     },
     "execution_count": 7,
     "metadata": {},
     "output_type": "execute_result"
    }
   ],
   "source": [
    "authenticator.is_logged_in(\"joe\")"
   ]
  },
  {
   "cell_type": "code",
   "execution_count": 8,
   "metadata": {},
   "outputs": [
    {
     "ename": "InvalidPassword",
     "evalue": "('joe', <__main__.User object at 0x7f2a21efacf8>)",
     "output_type": "error",
     "traceback": [
      "\u001b[0;31m---------------------------------------------------------------------------\u001b[0m",
      "\u001b[0;31mInvalidPassword\u001b[0m                           Traceback (most recent call last)",
      "\u001b[0;32m<ipython-input-8-d9762bdf094f>\u001b[0m in \u001b[0;36m<module>\u001b[0;34m()\u001b[0m\n\u001b[0;32m----> 1\u001b[0;31m \u001b[0mauthenticator\u001b[0m\u001b[0;34m.\u001b[0m\u001b[0mlogin\u001b[0m\u001b[0;34m(\u001b[0m\u001b[0;34m\"joe\"\u001b[0m\u001b[0;34m,\u001b[0m \u001b[0;34m\"mirzapass\"\u001b[0m\u001b[0;34m)\u001b[0m\u001b[0;34m\u001b[0m\u001b[0m\n\u001b[0m",
      "\u001b[0;32m<ipython-input-1-ef38eb762f6a>\u001b[0m in \u001b[0;36mlogin\u001b[0;34m(self, username, password)\u001b[0m\n\u001b[1;32m     59\u001b[0m \u001b[0;34m\u001b[0m\u001b[0m\n\u001b[1;32m     60\u001b[0m         \u001b[0;32mif\u001b[0m \u001b[0;32mnot\u001b[0m \u001b[0muser\u001b[0m\u001b[0;34m.\u001b[0m\u001b[0mcheck_password\u001b[0m\u001b[0;34m(\u001b[0m\u001b[0mpassword\u001b[0m\u001b[0;34m)\u001b[0m\u001b[0;34m:\u001b[0m\u001b[0;34m\u001b[0m\u001b[0m\n\u001b[0;32m---> 61\u001b[0;31m             \u001b[0;32mraise\u001b[0m \u001b[0mInvalidPassword\u001b[0m\u001b[0;34m(\u001b[0m\u001b[0musername\u001b[0m\u001b[0;34m,\u001b[0m \u001b[0muser\u001b[0m\u001b[0;34m)\u001b[0m\u001b[0;34m\u001b[0m\u001b[0m\n\u001b[0m\u001b[1;32m     62\u001b[0m \u001b[0;34m\u001b[0m\u001b[0m\n\u001b[1;32m     63\u001b[0m         \u001b[0muser\u001b[0m\u001b[0;34m.\u001b[0m\u001b[0mis_logged_in\u001b[0m \u001b[0;34m=\u001b[0m \u001b[0;32mTrue\u001b[0m\u001b[0;34m\u001b[0m\u001b[0m\n",
      "\u001b[0;31mInvalidPassword\u001b[0m: ('joe', <__main__.User object at 0x7f2a21efacf8>)"
     ]
    }
   ],
   "source": [
    "authenticator.login(\"joe\", \"mirzapass\")"
   ]
  },
  {
   "cell_type": "code",
   "execution_count": 9,
   "metadata": {},
   "outputs": [
    {
     "data": {
      "text/plain": [
       "True"
      ]
     },
     "execution_count": 9,
     "metadata": {},
     "output_type": "execute_result"
    }
   ],
   "source": [
    "authenticator.login(\"joe\", \"joepassword\")"
   ]
  },
  {
   "cell_type": "code",
   "execution_count": 10,
   "metadata": {},
   "outputs": [
    {
     "data": {
      "text/plain": [
       "True"
      ]
     },
     "execution_count": 10,
     "metadata": {},
     "output_type": "execute_result"
    }
   ],
   "source": [
    "authenticator.is_logged_in(\"joe\")"
   ]
  },
  {
   "cell_type": "code",
   "execution_count": 11,
   "metadata": {},
   "outputs": [
    {
     "ename": "NotPermittedError",
     "evalue": "('joe', None)",
     "output_type": "error",
     "traceback": [
      "\u001b[0;31m---------------------------------------------------------------------------\u001b[0m",
      "\u001b[0;31mNotPermittedError\u001b[0m                         Traceback (most recent call last)",
      "\u001b[0;32m<ipython-input-11-e80fdb0bf4a7>\u001b[0m in \u001b[0;36m<module>\u001b[0;34m()\u001b[0m\n\u001b[0;32m----> 1\u001b[0;31m \u001b[0mauthorizor\u001b[0m\u001b[0;34m.\u001b[0m\u001b[0mcheck_permission\u001b[0m\u001b[0;34m(\u001b[0m\u001b[0;34m\"paint\"\u001b[0m\u001b[0;34m,\u001b[0m \u001b[0;34m\"joe\"\u001b[0m\u001b[0;34m)\u001b[0m\u001b[0;34m\u001b[0m\u001b[0m\n\u001b[0m",
      "\u001b[0;32m<ipython-input-1-ef38eb762f6a>\u001b[0m in \u001b[0;36mcheck_permission\u001b[0;34m(self, perm_name, username)\u001b[0m\n\u001b[1;32m    106\u001b[0m         \u001b[0;32melse\u001b[0m\u001b[0;34m:\u001b[0m\u001b[0;34m\u001b[0m\u001b[0m\n\u001b[1;32m    107\u001b[0m             \u001b[0;32mif\u001b[0m \u001b[0musername\u001b[0m \u001b[0;32mnot\u001b[0m \u001b[0;32min\u001b[0m \u001b[0mperm_set\u001b[0m\u001b[0;34m:\u001b[0m\u001b[0;34m\u001b[0m\u001b[0m\n\u001b[0;32m--> 108\u001b[0;31m                 \u001b[0;32mraise\u001b[0m \u001b[0mNotPermittedError\u001b[0m\u001b[0;34m(\u001b[0m\u001b[0musername\u001b[0m\u001b[0;34m)\u001b[0m\u001b[0;34m\u001b[0m\u001b[0m\n\u001b[0m\u001b[1;32m    109\u001b[0m             \u001b[0;32melse\u001b[0m\u001b[0;34m:\u001b[0m\u001b[0;34m\u001b[0m\u001b[0m\n\u001b[1;32m    110\u001b[0m                 \u001b[0;32mreturn\u001b[0m \u001b[0;32mTrue\u001b[0m\u001b[0;34m\u001b[0m\u001b[0m\n",
      "\u001b[0;31mNotPermittedError\u001b[0m: ('joe', None)"
     ]
    }
   ],
   "source": [
    "authorizor.check_permission(\"paint\", \"joe\")"
   ]
  },
  {
   "cell_type": "code",
   "execution_count": 12,
   "metadata": {},
   "outputs": [],
   "source": [
    "authorizor.permit_user(\"paint\", \"joe\")"
   ]
  },
  {
   "cell_type": "code",
   "execution_count": 13,
   "metadata": {},
   "outputs": [
    {
     "data": {
      "text/plain": [
       "True"
      ]
     },
     "execution_count": 13,
     "metadata": {},
     "output_type": "execute_result"
    }
   ],
   "source": [
    "authorizor.check_permission(\"paint\", \"joe\")"
   ]
  },
  {
   "cell_type": "code",
   "execution_count": null,
   "metadata": {},
   "outputs": [
    {
     "name": "stdout",
     "output_type": "stream",
     "text": [
      "\n",
      "                        Please enter a command:\n",
      "                        \tlogin\tLogin\n",
      "                        \ttest\tTest the program\n",
      "                        \tchange\tChange the program\n",
      "                        \tquit\tQuit\n",
      "                        \n"
     ]
    }
   ],
   "source": [
    "class Editor:\n",
    "    def __init__(self):\n",
    "        self.username = None\n",
    "        self.menu_map = {\n",
    "            \"login\": self.login,\n",
    "            \"test\": self.test,\n",
    "            \"change\": self.change,\n",
    "            \"quit\": self.quit}\n",
    "        \n",
    "    def login(self):\n",
    "        logged_in = False\n",
    "        while not logged_in:\n",
    "            username = input(\"username: \")\n",
    "            password = input(\"password: \")\n",
    "            try:\n",
    "                logged_in = authenticator.login(username, password)\n",
    "            except InvalidUsername:\n",
    "                print(\"Sorry, that username does not exist\")\n",
    "            except InvalidPassword:\n",
    "                print(\"Sorry, incorrect password\")\n",
    "            else:\n",
    "                self.username = username\n",
    "                \n",
    "    def is_permitted(self, permission):\n",
    "        try:\n",
    "            authorizor.check_permission(permission, self.username)\n",
    "        except NotLoggedInError as e:\n",
    "            print(\"{} is not logged in\".format(e.username))\n",
    "            return False\n",
    "        except NotPermittedError as e:\n",
    "            print(\"{} cannot {}\".format(e.username, permission))\n",
    "            return False\n",
    "        else:\n",
    "            return True\n",
    "        \n",
    "    def test(self):\n",
    "        if self.is_permitted(\"test program\"):\n",
    "            print(\"Testing program now...\")\n",
    "            \n",
    "    def change(self):\n",
    "        if self.is_permitted(\"change program\"):\n",
    "            print(\"Changing program now...\")\n",
    "            \n",
    "    def quit(self):\n",
    "        raise SystemExit()\n",
    "        \n",
    "    def menu(self):\n",
    "        try:\n",
    "            answer = \"\"\n",
    "            while True:\n",
    "                print(\"\"\"\n",
    "                        Please enter a command:\n",
    "                        \\tlogin\\tLogin\n",
    "                        \\ttest\\tTest the program\n",
    "                        \\tchange\\tChange the program\n",
    "                        \\tquit\\tQuit\n",
    "                        \"\"\")\n",
    "                answer = input(\"enter a command: \").lower()\n",
    "                try:\n",
    "                    func = self.menu_map[answer]\n",
    "                except KeyError:\n",
    "                    print(\"{} is not a valid option\".format(answer))\n",
    "                else:\n",
    "                    func()\n",
    "        finally:\n",
    "            print(\"Thank you for testing the auth module\")\n",
    "\n",
    "editor = Editor().menu()"
   ]
  },
  {
   "cell_type": "code",
   "execution_count": null,
   "metadata": {},
   "outputs": [],
   "source": []
  }
 ],
 "metadata": {
  "kernelspec": {
   "display_name": "Python 3",
   "language": "python",
   "name": "python3"
  },
  "language_info": {
   "codemirror_mode": {
    "name": "ipython",
    "version": 3
   },
   "file_extension": ".py",
   "mimetype": "text/x-python",
   "name": "python",
   "nbconvert_exporter": "python",
   "pygments_lexer": "ipython3",
   "version": "3.6.4"
  }
 },
 "nbformat": 4,
 "nbformat_minor": 2
}
